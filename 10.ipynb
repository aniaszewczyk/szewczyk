{
 "cells": [
  {
   "cell_type": "code",
   "execution_count": 6,
   "metadata": {},
   "outputs": [
    {
     "name": "stderr",
     "output_type": "stream",
     "text": [
      "E\n",
      "======================================================================\n",
      "ERROR: C:\\Users\\szewc\\AppData\\Roaming\\jupyter\\runtime\\kernel-2657cf07-84d6-4c04-a20c-cf8f570feeb2 (unittest.loader._FailedTest)\n",
      "----------------------------------------------------------------------\n",
      "AttributeError: module '__main__' has no attribute 'C:\\Users\\szewc\\AppData\\Roaming\\jupyter\\runtime\\kernel-2657cf07-84d6-4c04-a20c-cf8f570feeb2'\n",
      "\n",
      "----------------------------------------------------------------------\n",
      "Ran 1 test in 0.006s\n",
      "\n",
      "FAILED (errors=1)\n"
     ]
    },
    {
     "ename": "SystemExit",
     "evalue": "True",
     "output_type": "error",
     "traceback": [
      "An exception has occurred, use %tb to see the full traceback.\n",
      "\u001b[1;31mSystemExit\u001b[0m\u001b[1;31m:\u001b[0m True\n"
     ]
    },
    {
     "name": "stderr",
     "output_type": "stream",
     "text": [
      "C:\\Users\\szewc\\anaconda3\\lib\\site-packages\\IPython\\core\\interactiveshell.py:3339: UserWarning: To exit: use 'exit', 'quit', or Ctrl-D.\n",
      "  warn(\"To exit: use 'exit', 'quit', or Ctrl-D.\", stacklevel=1)\n"
     ]
    }
   ],
   "source": [
    "import unittest\n",
    "# aby dobrzeoddać abstrakcję, trzeba przemyśleć wybór klas, aby dobrze obrazowały rzeczywisty model, a metody umieścić tak, aby odpowiedzialność poszczególnych podmiotów się zgadzała\n",
    "class Library(): # aplikacja zarzdza zasobami biblioteki, więc klasy to biblioteka i klient\n",
    "    availableBooks = list()\n",
    "    def __init__(self, listOfBooks):\n",
    "        self.availableBooks = listOfBooks\n",
    "    def lendBook(self, requestedBook): # biblioteka umożliwia wypożyczenie z niej książki\n",
    "        if requestedBook in self.availableBooks: # o ile taka istnieje i jest dostępna\n",
    "            print(\"Customer have borrowed the book.\")\n",
    "            self.availableBooks.remove(requestedBook)\n",
    "        else:\n",
    "            print(\"Sorry, the book client want to boorow is not available in our list.\")\n",
    "    def displayAvailableBooks(self): # przejrzenie zasobu\n",
    "        clear()\n",
    "        for number, book in enumerate(self.availableBooks):\n",
    "            text(book, 20, 20+number*20)\n",
    "    def addBook(self, returnedBook): # przeywrócenie książki do zasobu\n",
    "        if returnedBook:\n",
    "            self.availableBooks.append(returnedBook)\n",
    "            print(\"Client have returned the book. Thank You for using our service :)\")\n",
    "\n",
    "class Customer(): # klient ma wiele cech, ale z perspektywy biblioteki interesuje nas tylko czy ma wypożyczoną książę i jeśli tak to jaką\n",
    "    book = \"\" # ten typ biblioteki umożliwia wypożyczenie jedne książki jednej osobie\n",
    "    haveBook = False\n",
    "    def requestBook(self, book): # klient może zapytać o książę\n",
    "        print(\"Book You want to borrow is choosen.\")\n",
    "        self.book = book\n",
    "        self.haveBook = True\n",
    "        return self.book\n",
    "    def returnBook(self): # albo zwrócić jeśli posiada\n",
    "        print(\"Book which you returning is {}\".format(self.book))\n",
    "        if self.haveBook:\n",
    "            self.haveBook = False\n",
    "            return self.book\n",
    "        else:\n",
    "            self.book = \"\"\n",
    "            return False\n",
    "\n",
    "def setup():\n",
    "    size(220,100)\n",
    "    global library, Madzia\n",
    "    books = [\"Naocznosc\", \"Sens Sztuki\", \"Harry Potter\"]\n",
    "    library = Library(books) # bo biblioteka bez książek, to nie biblioteka\n",
    "    Madzia = Customer()\n",
    "    \n",
    "def draw():\n",
    "    library.displayAvailableBooks()\n",
    "    fill(150)\n",
    "    rect(100,10,100,20) # do wypożyczania\n",
    "    rect(100,40,100,20) # do zwracania\n",
    "    fill(250)\n",
    "    text('wypozycz', 120,25)\n",
    "    text('zwroc', 130, 55)\n",
    "\n",
    "def mouseClicked(): # poklikajcie kilkakrotnie w przyciski: wypożyczneie dwa razy tej samej książki, próba zwrócenia bez posiadania żadnej? Kto podejmuje działanie? \n",
    "    if mouseX >100 and mouseX<200:\n",
    "        if mouseY >10 and mouseY <30:\n",
    "            library.lendBook(Madzia.requestBook(\"Naocznosc\")) # cała interakcja między biblioteką a klientem łączy się dopiero tutaj, obiekty są oddzielne i każdy ma swoją odpowiedzialność: biblioteka za przechowywane książki, klient za wypożyczoną i to tej odpowiedzialności dotyczą metody, nie używają wzajemnie swoich pól, jest porządek\n",
    "        if mouseY >40 and mouseY <60:\n",
    "            library.addBook(Madzia.returnBook())\n",
    "            \n",
    "class TestStringMethods(unittest.TestCase):\n",
    "    def test_upper(self):\n",
    "        self.assertEqual('zwroc'.upper(), 'ZWROC')\n",
    "    def test_isupper(self):\n",
    "        self.assertTrue('ZWROC'.isupper())\n",
    "        self.assertFalse('ZWROC'.isupper())\n",
    "        \n",
    "if __name__ == '__main__':\n",
    "    unittest.main()"
   ]
  },
  {
   "cell_type": "code",
   "execution_count": null,
   "metadata": {},
   "outputs": [],
   "source": []
  }
 ],
 "metadata": {
  "kernelspec": {
   "display_name": "Python 3",
   "language": "python",
   "name": "python3"
  },
  "language_info": {
   "codemirror_mode": {
    "name": "ipython",
    "version": 3
   },
   "file_extension": ".py",
   "mimetype": "text/x-python",
   "name": "python",
   "nbconvert_exporter": "python",
   "pygments_lexer": "ipython3",
   "version": "3.7.6"
  }
 },
 "nbformat": 4,
 "nbformat_minor": 4
}
